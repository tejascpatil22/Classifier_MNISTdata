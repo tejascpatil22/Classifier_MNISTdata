{
 "cells": [
  {
   "cell_type": "markdown",
   "id": "2c9abe5f",
   "metadata": {},
   "source": [
    "# Classification using MNIST dataset\n",
    "MNIST dataset is a database of handwritten digits. The goal is to identify the actual digit using this dataset where humans have made handwritten endtries for numbers. We will try multiple classification algorithms to figure out the most suitable one. Algorithms we will try:\n",
    "1. SGDClassifier\n",
    "2. RandomForest classifier\n",
    "3. Logistic regression\n",
    "4. Knearestneighbours Classifier\n",
    "5. SVM classifier"
   ]
  },
  {
   "cell_type": "code",
   "execution_count": 1,
   "id": "540802f9",
   "metadata": {},
   "outputs": [],
   "source": [
    "#loading all the packages \n",
    "import pandas as pd\n",
    "import numpy as np\n",
    "import tensorflow_data_validation as tfdv\n",
    "from sklearn.model_selection import train_test_split\n",
    "from sklearn.linear_model import SGDClassifier\n",
    "from sklearn.ensemble import RandomForestClassifier\n",
    "from sklearn.linear_model import LogisticRegression\n",
    "from sklearn.metrics import accuracy_score, precision_score, recall_score, f1_score\n",
    "from sklearn.model_selection import RandomizedSearchCV\n",
    "from sklearn import datasets\n",
    "import time\n",
    "\n",
    "import warnings\n",
    "warnings.filterwarnings('ignore')"
   ]
  },
  {
   "cell_type": "markdown",
   "id": "4995b7f8",
   "metadata": {},
   "source": [
    "## Reading the data"
   ]
  },
  {
   "cell_type": "code",
   "execution_count": 2,
   "id": "6ca769ad",
   "metadata": {
    "scrolled": true
   },
   "outputs": [
    {
     "name": "stdout",
     "output_type": "stream",
     "text": [
      "dict_keys(['data', 'target', 'frame', 'categories', 'feature_names', 'target_names', 'DESCR', 'details', 'url'])\n"
     ]
    }
   ],
   "source": [
    "from sklearn.datasets import fetch_openml\n",
    "mnist = fetch_openml('mnist_784', version = 1, as_frame = True)\n",
    "print(mnist.keys())"
   ]
  },
  {
   "cell_type": "code",
   "execution_count": 3,
   "id": "813ffb89",
   "metadata": {},
   "outputs": [
    {
     "name": "stdout",
     "output_type": "stream",
     "text": [
      "(70000, 785)\n"
     ]
    },
    {
     "data": {
      "text/html": [
       "<div>\n",
       "<style scoped>\n",
       "    .dataframe tbody tr th:only-of-type {\n",
       "        vertical-align: middle;\n",
       "    }\n",
       "\n",
       "    .dataframe tbody tr th {\n",
       "        vertical-align: top;\n",
       "    }\n",
       "\n",
       "    .dataframe thead th {\n",
       "        text-align: right;\n",
       "    }\n",
       "</style>\n",
       "<table border=\"1\" class=\"dataframe\">\n",
       "  <thead>\n",
       "    <tr style=\"text-align: right;\">\n",
       "      <th></th>\n",
       "      <th>pixel1</th>\n",
       "      <th>pixel2</th>\n",
       "      <th>pixel3</th>\n",
       "      <th>pixel4</th>\n",
       "      <th>pixel5</th>\n",
       "      <th>pixel6</th>\n",
       "      <th>pixel7</th>\n",
       "      <th>pixel8</th>\n",
       "      <th>pixel9</th>\n",
       "      <th>pixel10</th>\n",
       "      <th>...</th>\n",
       "      <th>pixel776</th>\n",
       "      <th>pixel777</th>\n",
       "      <th>pixel778</th>\n",
       "      <th>pixel779</th>\n",
       "      <th>pixel780</th>\n",
       "      <th>pixel781</th>\n",
       "      <th>pixel782</th>\n",
       "      <th>pixel783</th>\n",
       "      <th>pixel784</th>\n",
       "      <th>class</th>\n",
       "    </tr>\n",
       "  </thead>\n",
       "  <tbody>\n",
       "    <tr>\n",
       "      <th>0</th>\n",
       "      <td>0.0</td>\n",
       "      <td>0.0</td>\n",
       "      <td>0.0</td>\n",
       "      <td>0.0</td>\n",
       "      <td>0.0</td>\n",
       "      <td>0.0</td>\n",
       "      <td>0.0</td>\n",
       "      <td>0.0</td>\n",
       "      <td>0.0</td>\n",
       "      <td>0.0</td>\n",
       "      <td>...</td>\n",
       "      <td>0.0</td>\n",
       "      <td>0.0</td>\n",
       "      <td>0.0</td>\n",
       "      <td>0.0</td>\n",
       "      <td>0.0</td>\n",
       "      <td>0.0</td>\n",
       "      <td>0.0</td>\n",
       "      <td>0.0</td>\n",
       "      <td>0.0</td>\n",
       "      <td>5</td>\n",
       "    </tr>\n",
       "    <tr>\n",
       "      <th>1</th>\n",
       "      <td>0.0</td>\n",
       "      <td>0.0</td>\n",
       "      <td>0.0</td>\n",
       "      <td>0.0</td>\n",
       "      <td>0.0</td>\n",
       "      <td>0.0</td>\n",
       "      <td>0.0</td>\n",
       "      <td>0.0</td>\n",
       "      <td>0.0</td>\n",
       "      <td>0.0</td>\n",
       "      <td>...</td>\n",
       "      <td>0.0</td>\n",
       "      <td>0.0</td>\n",
       "      <td>0.0</td>\n",
       "      <td>0.0</td>\n",
       "      <td>0.0</td>\n",
       "      <td>0.0</td>\n",
       "      <td>0.0</td>\n",
       "      <td>0.0</td>\n",
       "      <td>0.0</td>\n",
       "      <td>0</td>\n",
       "    </tr>\n",
       "    <tr>\n",
       "      <th>2</th>\n",
       "      <td>0.0</td>\n",
       "      <td>0.0</td>\n",
       "      <td>0.0</td>\n",
       "      <td>0.0</td>\n",
       "      <td>0.0</td>\n",
       "      <td>0.0</td>\n",
       "      <td>0.0</td>\n",
       "      <td>0.0</td>\n",
       "      <td>0.0</td>\n",
       "      <td>0.0</td>\n",
       "      <td>...</td>\n",
       "      <td>0.0</td>\n",
       "      <td>0.0</td>\n",
       "      <td>0.0</td>\n",
       "      <td>0.0</td>\n",
       "      <td>0.0</td>\n",
       "      <td>0.0</td>\n",
       "      <td>0.0</td>\n",
       "      <td>0.0</td>\n",
       "      <td>0.0</td>\n",
       "      <td>4</td>\n",
       "    </tr>\n",
       "    <tr>\n",
       "      <th>3</th>\n",
       "      <td>0.0</td>\n",
       "      <td>0.0</td>\n",
       "      <td>0.0</td>\n",
       "      <td>0.0</td>\n",
       "      <td>0.0</td>\n",
       "      <td>0.0</td>\n",
       "      <td>0.0</td>\n",
       "      <td>0.0</td>\n",
       "      <td>0.0</td>\n",
       "      <td>0.0</td>\n",
       "      <td>...</td>\n",
       "      <td>0.0</td>\n",
       "      <td>0.0</td>\n",
       "      <td>0.0</td>\n",
       "      <td>0.0</td>\n",
       "      <td>0.0</td>\n",
       "      <td>0.0</td>\n",
       "      <td>0.0</td>\n",
       "      <td>0.0</td>\n",
       "      <td>0.0</td>\n",
       "      <td>1</td>\n",
       "    </tr>\n",
       "    <tr>\n",
       "      <th>4</th>\n",
       "      <td>0.0</td>\n",
       "      <td>0.0</td>\n",
       "      <td>0.0</td>\n",
       "      <td>0.0</td>\n",
       "      <td>0.0</td>\n",
       "      <td>0.0</td>\n",
       "      <td>0.0</td>\n",
       "      <td>0.0</td>\n",
       "      <td>0.0</td>\n",
       "      <td>0.0</td>\n",
       "      <td>...</td>\n",
       "      <td>0.0</td>\n",
       "      <td>0.0</td>\n",
       "      <td>0.0</td>\n",
       "      <td>0.0</td>\n",
       "      <td>0.0</td>\n",
       "      <td>0.0</td>\n",
       "      <td>0.0</td>\n",
       "      <td>0.0</td>\n",
       "      <td>0.0</td>\n",
       "      <td>9</td>\n",
       "    </tr>\n",
       "  </tbody>\n",
       "</table>\n",
       "<p>5 rows × 785 columns</p>\n",
       "</div>"
      ],
      "text/plain": [
       "   pixel1  pixel2  pixel3  pixel4  pixel5  pixel6  pixel7  pixel8  pixel9  \\\n",
       "0     0.0     0.0     0.0     0.0     0.0     0.0     0.0     0.0     0.0   \n",
       "1     0.0     0.0     0.0     0.0     0.0     0.0     0.0     0.0     0.0   \n",
       "2     0.0     0.0     0.0     0.0     0.0     0.0     0.0     0.0     0.0   \n",
       "3     0.0     0.0     0.0     0.0     0.0     0.0     0.0     0.0     0.0   \n",
       "4     0.0     0.0     0.0     0.0     0.0     0.0     0.0     0.0     0.0   \n",
       "\n",
       "   pixel10  ...  pixel776  pixel777  pixel778  pixel779  pixel780  pixel781  \\\n",
       "0      0.0  ...       0.0       0.0       0.0       0.0       0.0       0.0   \n",
       "1      0.0  ...       0.0       0.0       0.0       0.0       0.0       0.0   \n",
       "2      0.0  ...       0.0       0.0       0.0       0.0       0.0       0.0   \n",
       "3      0.0  ...       0.0       0.0       0.0       0.0       0.0       0.0   \n",
       "4      0.0  ...       0.0       0.0       0.0       0.0       0.0       0.0   \n",
       "\n",
       "   pixel782  pixel783  pixel784  class  \n",
       "0       0.0       0.0       0.0      5  \n",
       "1       0.0       0.0       0.0      0  \n",
       "2       0.0       0.0       0.0      4  \n",
       "3       0.0       0.0       0.0      1  \n",
       "4       0.0       0.0       0.0      9  \n",
       "\n",
       "[5 rows x 785 columns]"
      ]
     },
     "execution_count": 3,
     "metadata": {},
     "output_type": "execute_result"
    }
   ],
   "source": [
    "#Extracting required data for modelling purposes\n",
    "X,y = mnist[\"data\"], mnist[\"target\"]\n",
    "df = pd.concat([X,y], axis = 1)\n",
    "print(df.shape)\n",
    "df.head(5)"
   ]
  },
  {
   "cell_type": "markdown",
   "id": "6ecd9251",
   "metadata": {},
   "source": [
    "## EDA"
   ]
  },
  {
   "cell_type": "markdown",
   "id": "7466d9d8",
   "metadata": {},
   "source": [
    "Let's take a look at typical summary stats for the data that we're going to be working with"
   ]
  },
  {
   "cell_type": "code",
   "execution_count": 4,
   "id": "a43db9aa",
   "metadata": {},
   "outputs": [
    {
     "name": "stdout",
     "output_type": "stream",
     "text": [
      "(52500, 784)\n",
      "(17500, 784)\n"
     ]
    }
   ],
   "source": [
    "#splitting up the data in train and test first\n",
    "X_train, X_test, y_train, y_test = train_test_split(X, y, test_size = 0.25, random_state = 22)\n",
    "print(X_train.shape)\n",
    "print(X_test.shape)"
   ]
  },
  {
   "cell_type": "code",
   "execution_count": null,
   "id": "50e6991b",
   "metadata": {
    "scrolled": true
   },
   "outputs": [],
   "source": [
    "#visualizing summary stats for the train set\n",
    "train_stats = tfdv.generate_statistics_from_dataframe(X_train)\n",
    "tfdv.visualize_statistics(train_stats)"
   ]
  },
  {
   "cell_type": "markdown",
   "id": "bd69037b",
   "metadata": {},
   "source": [
    "Observations:\n",
    "1. There are a lot of 0 values but given that this is image data where there  aren't any pixels in a large portion of the image, this makes sense. We don't want to treat these values\n",
    "2. There is no missing data that we need to impute in this dataset"
   ]
  },
  {
   "cell_type": "code",
   "execution_count": 7,
   "id": "9ad05452",
   "metadata": {},
   "outputs": [
    {
     "data": {
      "text/html": [
       "<div>\n",
       "<style scoped>\n",
       "    .dataframe tbody tr th:only-of-type {\n",
       "        vertical-align: middle;\n",
       "    }\n",
       "\n",
       "    .dataframe tbody tr th {\n",
       "        vertical-align: top;\n",
       "    }\n",
       "\n",
       "    .dataframe thead th {\n",
       "        text-align: right;\n",
       "    }\n",
       "</style>\n",
       "<table border=\"1\" class=\"dataframe\">\n",
       "  <thead>\n",
       "    <tr style=\"text-align: right;\">\n",
       "      <th></th>\n",
       "      <th>Type</th>\n",
       "      <th>Presence</th>\n",
       "      <th>Valency</th>\n",
       "      <th>Domain</th>\n",
       "    </tr>\n",
       "    <tr>\n",
       "      <th>Feature name</th>\n",
       "      <th></th>\n",
       "      <th></th>\n",
       "      <th></th>\n",
       "      <th></th>\n",
       "    </tr>\n",
       "  </thead>\n",
       "  <tbody>\n",
       "    <tr>\n",
       "      <th>'pixel1'</th>\n",
       "      <td>FLOAT</td>\n",
       "      <td>required</td>\n",
       "      <td></td>\n",
       "      <td>-</td>\n",
       "    </tr>\n",
       "    <tr>\n",
       "      <th>'pixel2'</th>\n",
       "      <td>FLOAT</td>\n",
       "      <td>required</td>\n",
       "      <td></td>\n",
       "      <td>-</td>\n",
       "    </tr>\n",
       "    <tr>\n",
       "      <th>'pixel3'</th>\n",
       "      <td>FLOAT</td>\n",
       "      <td>required</td>\n",
       "      <td></td>\n",
       "      <td>-</td>\n",
       "    </tr>\n",
       "    <tr>\n",
       "      <th>'pixel4'</th>\n",
       "      <td>FLOAT</td>\n",
       "      <td>required</td>\n",
       "      <td></td>\n",
       "      <td>-</td>\n",
       "    </tr>\n",
       "    <tr>\n",
       "      <th>'pixel5'</th>\n",
       "      <td>FLOAT</td>\n",
       "      <td>required</td>\n",
       "      <td></td>\n",
       "      <td>-</td>\n",
       "    </tr>\n",
       "    <tr>\n",
       "      <th>...</th>\n",
       "      <td>...</td>\n",
       "      <td>...</td>\n",
       "      <td>...</td>\n",
       "      <td>...</td>\n",
       "    </tr>\n",
       "    <tr>\n",
       "      <th>'pixel780'</th>\n",
       "      <td>FLOAT</td>\n",
       "      <td>required</td>\n",
       "      <td></td>\n",
       "      <td>-</td>\n",
       "    </tr>\n",
       "    <tr>\n",
       "      <th>'pixel781'</th>\n",
       "      <td>FLOAT</td>\n",
       "      <td>required</td>\n",
       "      <td></td>\n",
       "      <td>-</td>\n",
       "    </tr>\n",
       "    <tr>\n",
       "      <th>'pixel782'</th>\n",
       "      <td>FLOAT</td>\n",
       "      <td>required</td>\n",
       "      <td></td>\n",
       "      <td>-</td>\n",
       "    </tr>\n",
       "    <tr>\n",
       "      <th>'pixel783'</th>\n",
       "      <td>FLOAT</td>\n",
       "      <td>required</td>\n",
       "      <td></td>\n",
       "      <td>-</td>\n",
       "    </tr>\n",
       "    <tr>\n",
       "      <th>'pixel784'</th>\n",
       "      <td>FLOAT</td>\n",
       "      <td>required</td>\n",
       "      <td></td>\n",
       "      <td>-</td>\n",
       "    </tr>\n",
       "  </tbody>\n",
       "</table>\n",
       "<p>784 rows × 4 columns</p>\n",
       "</div>"
      ],
      "text/plain": [
       "               Type  Presence Valency Domain\n",
       "Feature name                                \n",
       "'pixel1'      FLOAT  required              -\n",
       "'pixel2'      FLOAT  required              -\n",
       "'pixel3'      FLOAT  required              -\n",
       "'pixel4'      FLOAT  required              -\n",
       "'pixel5'      FLOAT  required              -\n",
       "...             ...       ...     ...    ...\n",
       "'pixel780'    FLOAT  required              -\n",
       "'pixel781'    FLOAT  required              -\n",
       "'pixel782'    FLOAT  required              -\n",
       "'pixel783'    FLOAT  required              -\n",
       "'pixel784'    FLOAT  required              -\n",
       "\n",
       "[784 rows x 4 columns]"
      ]
     },
     "metadata": {},
     "output_type": "display_data"
    }
   ],
   "source": [
    "#Taking a look at the table schema\n",
    "train_schema = tfdv.infer_schema(statistics = train_stats)\n",
    "tfdv.display_schema(train_schema)"
   ]
  },
  {
   "cell_type": "markdown",
   "id": "9cc32774",
   "metadata": {},
   "source": [
    "## Preprocessing pipeline"
   ]
  },
  {
   "cell_type": "markdown",
   "id": "18536e5d",
   "metadata": {},
   "source": [
    "There is no need to create a transformation pipeline for this data as there is no need to scale, impute etc anything here. If required, we would have created a transformation pipeline using sklearn's Pipeline class to apply transformations to training and test data"
   ]
  },
  {
   "cell_type": "markdown",
   "id": "8283d46d",
   "metadata": {},
   "source": [
    "## Hyperparameter and Model building functions"
   ]
  },
  {
   "cell_type": "code",
   "execution_count": 5,
   "id": "83f0e13e",
   "metadata": {},
   "outputs": [],
   "source": [
    "#creating an empty dataset to store model acuracies\n",
    "modelComparisons = pd.DataFrame(columns = ['Model name', 'Accuracy', 'Precision', 'Recall','F1 score'])"
   ]
  },
  {
   "cell_type": "markdown",
   "id": "aaf4dbb1",
   "metadata": {},
   "source": [
    "### Let's first create the Hyperparameter tuning + modeling functions"
   ]
  },
  {
   "cell_type": "code",
   "execution_count": 18,
   "id": "9d995584",
   "metadata": {},
   "outputs": [],
   "source": [
    "#function to measure accuracy\n",
    "def modelMetrics(actual, pred):\n",
    "    accuracy = round(accuracy_score(actual,pred)*100,2)\n",
    "    precision = round(precision_score(actual,pred,average='macro')*100,2)\n",
    "    recall = round(recall_score(actual,pred,average='macro')*100,2)\n",
    "    f1score = round(f1_score(actual, pred, average='macro'),2)\n",
    "    \n",
    "    print(\"Accuracy: \",accuracy,'%')\n",
    "    print(\"Precision: \",precision,'%')\n",
    "    print(\"Recall: \",recall,'%')\n",
    "    print(\"F1 score: \",f1score)\n",
    "    \n",
    "    return(accuracy,precision,recall,f1score)"
   ]
  },
  {
   "cell_type": "code",
   "execution_count": 14,
   "id": "9394083d",
   "metadata": {},
   "outputs": [],
   "source": [
    "#hyperparameters and modelling for SGDclassifier\n",
    "def sgdPara(model, iterations, X_training, y_training, X_testing, y_testing):\n",
    "    start = time.time()\n",
    "    global modelComparisons\n",
    "    para_grid = {\"loss\": [\"hinge\"],\n",
    "                \"penalty\": [\"l2\"] #, \"elasticnet\"\n",
    "                }\n",
    "    hp_tuning = RandomizedSearchCV(model, param_distributions = para_grid, n_iter = iterations)\n",
    "    hp_tuning.fit(X_training, y_training)\n",
    "    \n",
    "    print('SGDClassifier Best Parameters:\\n', hp_tuning.best_params_)\n",
    "    y_pred = hp_tuning.predict(X_testing)\n",
    "    \n",
    "    accuracy, precision, recall, f1score = modelMetrics(y_pred, y_testing)\n",
    "    \n",
    "    #appending in table\n",
    "    results = [['SGDClassifier', accuracy, precision, recall, f1score]]\n",
    "    modelComparisons = modelComparisons.append(pd.DataFrame(results,columns = ['Model name', 'Accuracy', 'Precision', 'Recall','F1 score']),\n",
    "               ignore_index = True)\n",
    "    print(\"Done in {} seconds\".format(time.time()-start))\n",
    "    #return(accuracy,precision,recall,f1score)\n",
    "\n",
    "#hyperparameters and modelling for RandomForestClassifier\n",
    "def rfPara(model, X_training, y_training, X_testing, y_testing):\n",
    "    start = time.time()\n",
    "    global modelComparisons\n",
    "    para_grid = {\n",
    "    'max_depth': [10, 20, 30],#, 40, 50, 60, 70, 80, 90, 100, None\n",
    "     'max_features': ['auto', 'sqrt'],\n",
    "     'min_samples_leaf': [4],#1, 2,\n",
    "     'min_samples_split': [10],#2, 5,\n",
    "     'n_estimators': [ 1800, 2000] #200, 400, 600, 800, 1000, 1200, 1400, 1600,\n",
    "    }\n",
    "    hp_tuning = RandomizedSearchCV(model, param_distributions = para_grid)\n",
    "    hp_tuning.fit(X_training, y_training)\n",
    "    \n",
    "    print('RandomForest Best Parameters:\\n', hp_tuning.best_params_)\n",
    "    y_pred = hp_tuning.predict(X_testing)\n",
    "    \n",
    "    accuracy, precision, recall, f1score = modelMetrics(y_pred, y_testing)\n",
    "    \n",
    "    #appending in table\n",
    "    results = [['RandomForestClassifier', accuracy, precision, recall, f1score]]\n",
    "    modelComparisons = modelComparisons.append(pd.DataFrame(results,columns = ['Model name', 'Accuracy', 'Precision', 'Recall','F1 score']),\n",
    "               ignore_index = True)\n",
    "    print(\"Done in {} seconds\".format(time.time()-start))\n",
    "    \n",
    "#hyperparameters and modelling for LogisticRegression \n",
    "def lrPara(model, X_training, y_training, X_testing, y_testing):\n",
    "    start = time.time()\n",
    "    global modelComparisons\n",
    "    para_grid = {\"solver\":[\"lbfgs\",\"sag\"],#\n",
    "                 \"penalty\": [\"l2\",\"none\"]#\n",
    "                }\n",
    "    hp_tuning = RandomizedSearchCV(model, param_distributions = para_grid)\n",
    "    hp_tuning.fit(X_training, y_training)\n",
    "    \n",
    "    print('SGDClassifier Best Parameters:\\n', hp_tuning.best_params_)\n",
    "    y_pred = hp_tuning.predict(X_testing)\n",
    "    \n",
    "    accuracy, precision, recall, f1score = modelMetrics(y_pred, y_testing)\n",
    "    \n",
    "    #appending in table\n",
    "    results = [['LogisticRegression', accuracy, precision, recall, f1score]]\n",
    "    modelComparisons = modelComparisons.append(pd.DataFrame(results,columns = ['Model name', 'Accuracy', 'Precision', 'Recall','F1 score']),\n",
    "               ignore_index = True)\n",
    "    print(\"Done in {} seconds\".format(time.time()-start))"
   ]
  },
  {
   "cell_type": "markdown",
   "id": "e6dfca3c",
   "metadata": {},
   "source": [
    "## Model predictions and Accuracy"
   ]
  },
  {
   "cell_type": "markdown",
   "id": "b0edacde",
   "metadata": {},
   "source": [
    "Building the models using the best params"
   ]
  },
  {
   "cell_type": "code",
   "execution_count": 16,
   "id": "6ac38861",
   "metadata": {
    "scrolled": true
   },
   "outputs": [
    {
     "name": "stdout",
     "output_type": "stream",
     "text": [
      "SGDClassifier Best Parameters:\n",
      " {'penalty': 'l2', 'loss': 'hinge'}\n",
      "Accuracy:  87.61 %\n",
      "Precision:  87.61 %\n",
      "Recall:  87.61 %\n",
      "F1 score:  0.88\n",
      "Done in 541.3047416210175 seconds\n"
     ]
    }
   ],
   "source": [
    "#SGDClassifier\n",
    "sgdModel = SGDClassifier()\n",
    "sgdPara(sgdModel, 1, X_train, y_train, X_test, y_test)"
   ]
  },
  {
   "cell_type": "code",
   "execution_count": null,
   "id": "8ace1a56",
   "metadata": {},
   "outputs": [],
   "source": [
    "#RandomForest\n",
    "rfModel = RandomForestClassifier()\n",
    "rfPara(rfModel, X_train, y_train, X_test, y_test)"
   ]
  },
  {
   "cell_type": "code",
   "execution_count": 19,
   "id": "64c3f612",
   "metadata": {
    "scrolled": true
   },
   "outputs": [
    {
     "name": "stdout",
     "output_type": "stream",
     "text": [
      "SGDClassifier Best Parameters:\n",
      " {'solver': 'lbfgs', 'penalty': 'l2'}\n",
      "Accuracy:  92.01 %\n",
      "Precision:  91.89 %\n",
      "Recall:  91.93 %\n",
      "F1 score:  0.92\n",
      "Done in 165.6199915409088 seconds\n"
     ]
    }
   ],
   "source": [
    "#Logistic regression\n",
    "lrModel = LogisticRegression()\n",
    "lrPara(lrModel, X_train, y_train, X_test, y_test)"
   ]
  },
  {
   "cell_type": "code",
   "execution_count": 20,
   "id": "c1d3f95c",
   "metadata": {},
   "outputs": [
    {
     "data": {
      "text/html": [
       "<div>\n",
       "<style scoped>\n",
       "    .dataframe tbody tr th:only-of-type {\n",
       "        vertical-align: middle;\n",
       "    }\n",
       "\n",
       "    .dataframe tbody tr th {\n",
       "        vertical-align: top;\n",
       "    }\n",
       "\n",
       "    .dataframe thead th {\n",
       "        text-align: right;\n",
       "    }\n",
       "</style>\n",
       "<table border=\"1\" class=\"dataframe\">\n",
       "  <thead>\n",
       "    <tr style=\"text-align: right;\">\n",
       "      <th></th>\n",
       "      <th>Model name</th>\n",
       "      <th>Accuracy</th>\n",
       "      <th>Precision</th>\n",
       "      <th>Recall</th>\n",
       "      <th>F1 score</th>\n",
       "    </tr>\n",
       "  </thead>\n",
       "  <tbody>\n",
       "    <tr>\n",
       "      <th>0</th>\n",
       "      <td>LogisticRegression</td>\n",
       "      <td>92.01</td>\n",
       "      <td>92.01</td>\n",
       "      <td>92.01</td>\n",
       "      <td>0.92</td>\n",
       "    </tr>\n",
       "    <tr>\n",
       "      <th>1</th>\n",
       "      <td>SGDClassifier</td>\n",
       "      <td>87.61</td>\n",
       "      <td>87.61</td>\n",
       "      <td>87.61</td>\n",
       "      <td>0.88</td>\n",
       "    </tr>\n",
       "    <tr>\n",
       "      <th>2</th>\n",
       "      <td>LogisticRegression</td>\n",
       "      <td>92.01</td>\n",
       "      <td>91.89</td>\n",
       "      <td>91.93</td>\n",
       "      <td>0.92</td>\n",
       "    </tr>\n",
       "  </tbody>\n",
       "</table>\n",
       "</div>"
      ],
      "text/plain": [
       "           Model name  Accuracy  Precision  Recall  F1 score\n",
       "0  LogisticRegression     92.01      92.01   92.01      0.92\n",
       "1       SGDClassifier     87.61      87.61   87.61      0.88\n",
       "2  LogisticRegression     92.01      91.89   91.93      0.92"
      ]
     },
     "execution_count": 20,
     "metadata": {},
     "output_type": "execute_result"
    }
   ],
   "source": [
    "modelComparisons"
   ]
  },
  {
   "cell_type": "markdown",
   "id": "32a573c8",
   "metadata": {},
   "source": [
    "## Best model selection"
   ]
  }
 ],
 "metadata": {
  "kernelspec": {
   "display_name": "Python 3 (ipykernel)",
   "language": "python",
   "name": "python3"
  },
  "language_info": {
   "codemirror_mode": {
    "name": "ipython",
    "version": 3
   },
   "file_extension": ".py",
   "mimetype": "text/x-python",
   "name": "python",
   "nbconvert_exporter": "python",
   "pygments_lexer": "ipython3",
   "version": "3.7.5"
  }
 },
 "nbformat": 4,
 "nbformat_minor": 5
}
